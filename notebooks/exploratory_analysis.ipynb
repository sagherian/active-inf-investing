{
 "cells": [
  {
   "cell_type": "markdown",
   "id": "33309d6b",
   "metadata": {},
   "source": [
    "# Exploratory Analysis: Active Inference Investing\n",
    "This notebook demonstrates how to use the active inference agent, hyperbolic discounting, and a PyTorch transformer to simulate stock trading and analyze results."
   ]
  },
  {
   "cell_type": "code",
   "execution_count": null,
   "id": "e2db38be",
   "metadata": {},
   "outputs": [],
   "source": [
    "import yfinance as yf\n",
    "from src.simulate import run_simulation\n",
    "import matplotlib.pyplot as plt\n",
    "\n",
    "# Download data\n",
    "stock = 'COIN'\n",
    "df = yf.download(stock, period='6mo', progress=False)\n",
    "price_series = df['Close'].dropna().reset_index(drop=True)\n",
    "\n",
    "# (Assume transformer is trained and available as 'transformer')\n",
    "# Try different k values\n",
    "k_values = [0.01, 0.1, 0.5, 1.0]\n",
    "results = {}\n",
    "for k in k_values:\n",
    "    history = run_simulation(price_series, k, transformer, seq_length=20)\n",
    "    results[k] = history\n",
    "\n",
    "# Plot\n",
    "plt.figure(figsize=(10, 5))\n",
    "for k, history in results.items():\n",
    "    plt.plot(history['t'], history['portfolio_value'], label=f'k={k}')\n",
    "plt.xlabel('Time')\n",
    "plt.ylabel('Portfolio Value')\n",
    "plt.title('Portfolio Value for Different Hyperbolic Discounting (k) Values')\n",
    "plt.legend()\n",
    "plt.show()"
   ]
  }
 ],
 "metadata": {
  "language_info": {
   "name": "python"
  }
 },
 "nbformat": 4,
 "nbformat_minor": 5
}
